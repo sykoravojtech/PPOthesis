{
 "cells": [
  {
   "cell_type": "code",
   "execution_count": 2,
   "metadata": {},
   "outputs": [],
   "source": [
    "import glob"
   ]
  },
  {
   "cell_type": "code",
   "execution_count": 6,
   "metadata": {},
   "outputs": [
    {
     "data": {
      "text/plain": [
       "['ppo/BEST/left',\n",
       " 'ppo/BEST/gustyLeft',\n",
       " 'ppo/BEST/pureEnv',\n",
       " 'ppo/BEST/gustyRight',\n",
       " 'ppo/BEST/right',\n",
       " 'ppo/BEST/sides',\n",
       " 'ppo/BEST/left/ep810_0.1,0.2(358)',\n",
       " 'ppo/BEST/gustyLeft/ep960_0.1,0.2(500)',\n",
       " 'ppo/BEST/pureEnv/projectBEST',\n",
       " 'ppo/BEST/gustyRight/ep780_0.1,0.2(275)',\n",
       " 'ppo/BEST/right/ep1220_0.1,0.2(435)',\n",
       " 'ppo/BEST/sides/ep820_0.3,0.4',\n",
       " 'ppo/BEST/sides/ep400_0.4,0.5',\n",
       " 'ppo/BEST/sides/ep400_0.1,0.2',\n",
       " 'ppo/BEST/sides/ep420_0.2,0.3']"
      ]
     },
     "execution_count": 6,
     "metadata": {},
     "output_type": "execute_result"
    }
   ],
   "source": [
    "dir_path = r'ppo/BEST/**/*'\n",
    "# print(dir_path)\n",
    "res = glob.glob(dir_path, recursive=True)\n",
    "res"
   ]
  },
  {
   "cell_type": "code",
   "execution_count": 7,
   "metadata": {},
   "outputs": [
    {
     "data": {
      "text/plain": [
       "['BEST/left',\n",
       " 'BEST/gustyLeft',\n",
       " 'BEST/pureEnv',\n",
       " 'BEST/gustyRight',\n",
       " 'BEST/right',\n",
       " 'BEST/sides',\n",
       " 'BEST/left/ep810_0.1,0.2(358)',\n",
       " 'BEST/gustyLeft/ep960_0.1,0.2(500)',\n",
       " 'BEST/pureEnv/projectBEST',\n",
       " 'BEST/gustyRight/ep780_0.1,0.2(275)',\n",
       " 'BEST/right/ep1220_0.1,0.2(435)',\n",
       " 'BEST/sides/ep820_0.3,0.4',\n",
       " 'BEST/sides/ep400_0.4,0.5',\n",
       " 'BEST/sides/ep400_0.1,0.2',\n",
       " 'BEST/sides/ep420_0.2,0.3']"
      ]
     },
     "execution_count": 7,
     "metadata": {},
     "output_type": "execute_result"
    }
   ],
   "source": [
    "res2 = []\n",
    "for file in res:\n",
    "    cut = file[4:]\n",
    "    res2.append(cut)\n",
    "res2"
   ]
  },
  {
   "cell_type": "code",
   "execution_count": null,
   "metadata": {},
   "outputs": [],
   "source": []
  }
 ],
 "metadata": {
  "kernelspec": {
   "display_name": "newest",
   "language": "python",
   "name": "python3"
  },
  "language_info": {
   "codemirror_mode": {
    "name": "ipython",
    "version": 3
   },
   "file_extension": ".py",
   "mimetype": "text/x-python",
   "name": "python",
   "nbconvert_exporter": "python",
   "pygments_lexer": "ipython3",
   "version": "3.10.4"
  },
  "orig_nbformat": 4,
  "vscode": {
   "interpreter": {
    "hash": "8876f6a98ad19a687413671dfde6d970cd0cee06d4ec187ee1b630f5864e8230"
   }
  }
 },
 "nbformat": 4,
 "nbformat_minor": 2
}
